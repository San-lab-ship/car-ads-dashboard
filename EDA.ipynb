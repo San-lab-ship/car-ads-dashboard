{
 "cells": [
  {
   "cell_type": "code",
   "execution_count": null,
   "id": "8516a10f",
   "metadata": {
    "vscode": {
     "languageId": "plaintext"
    }
   },
   "outputs": [],
   "source": [
    "# Celda de Código 1: Importar librerías\n",
    "import pandas as pd\n",
    "import matplotlib.pyplot as plt\n",
    "import seaborn as sns\n",
    "\n",
    "# Celda de Texto 1 (Markdown): Cargar el conjunto de datos\n",
    "# # Carga de Datos\n",
    "# Cargamos el archivo `vehicles_us.csv` en un DataFrame de Pandas para comenzar el análisis.\n",
    "\n",
    "# Celda de Código 2: Cargar datos\n",
    "df = pd.read_csv('../vehicles_us.csv') # Asegúrate de que la ruta sea correcta si el CSV está en la raíz\n",
    "\n",
    "# Celda de Texto 2 (Markdown): Inspección inicial del DataFrame\n",
    "# # Inspección Inicial\n",
    "# Exploramos las primeras filas, el tipo de datos y la información general del DataFrame para entender su estructura.\n",
    "\n",
    "# Celda de Código 3: Ver primeras filas y información general\n",
    "print(df.head())\n",
    "print(df.info())\n",
    "print(df.describe())\n",
    "\n",
    "# Celda de Texto 3 (Markdown): Manejo de valores ausentes\n",
    "# # Manejo de Valores Ausentes\n",
    "# Identificamos y manejamos los valores nulos en el conjunto de datos, decidiendo si imputar o eliminar según la columna.\n",
    "\n",
    "# Celda de Código 4: Contar valores ausentes\n",
    "print(df.isnull().sum())\n",
    "# ... (código para manejar nulos, por ejemplo, imputar kilometraje con la media)\n",
    "# df['mileage'] = df['mileage'].fillna(df['mileage'].mean())\n",
    "\n",
    "# Celda de Texto 4 (Markdown): Visualización de la distribución del kilometraje\n",
    "# # Distribución del Kilometraje\n",
    "# Un histograma nos permite ver la distribución de los valores de kilometraje.\n",
    "\n",
    "# Celda de Código 5: Histograma de kilometraje\n",
    "plt.figure(figsize=(10, 6))\n",
    "sns.histplot(df['mileage'], bins=50, kde=True)\n",
    "plt.title('Distribución del Kilometraje (Mileage)')\n",
    "plt.xlabel('Kilometraje (Mileage)')\n",
    "plt.ylabel('Frecuencia')\n",
    "plt.show()\n",
    "\n",
    "# ... (continúa con más análisis y gráficos como la relación precio-kilometraje, etc.)\n"
   ]
  }
 ],
 "metadata": {
  "language_info": {
   "name": "python"
  }
 },
 "nbformat": 4,
 "nbformat_minor": 5
}
